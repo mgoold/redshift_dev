{
 "cells": [
  {
   "cell_type": "code",
   "execution_count": null,
   "id": "b69d3130",
   "metadata": {},
   "outputs": [],
   "source": [
    "import datetime \n",
    "from dateutil.relativedelta import relativedelta\n",
    "import random\n",
    "from faker import Faker\n",
    "import csv\n",
    "import pandas as pd\n",
    "import numpy as np"
   ]
  },
  {
   "cell_type": "code",
   "execution_count": 69,
   "id": "0264f7fc",
   "metadata": {},
   "outputs": [],
   "source": [
    "pd.options.display.max_rows = None"
   ]
  },
  {
   "cell_type": "code",
   "execution_count": 70,
   "id": "8a72c1ae",
   "metadata": {},
   "outputs": [],
   "source": [
    "# instantiate faker\n",
    "fake = Faker()"
   ]
  },
  {
   "cell_type": "code",
   "execution_count": 71,
   "id": "886d4d00",
   "metadata": {},
   "outputs": [],
   "source": [
    "# make 1000 random unique user ids\n",
    "usercount=100000\n",
    "userlist=random.sample(range(100000, 300000), usercount)"
   ]
  },
  {
   "cell_type": "code",
   "execution_count": 72,
   "id": "4d7e6900",
   "metadata": {},
   "outputs": [],
   "source": [
    "monthprops=[.2,.3,.4,.5,.6,.72,.8,.74,.69,.51,.42,.38]"
   ]
  },
  {
   "cell_type": "code",
   "execution_count": 88,
   "id": "8f9ffa8f",
   "metadata": {},
   "outputs": [],
   "source": [
    "month = datetime.date(year=2022, month=1, day=1)\n",
    "monthusers=[]\n",
    "\n",
    "start_date = datetime.date(year=2023, month=1, day=1)\n",
    "date=start_date\n",
    "end_date = datetime.date(year=2024, month=1, day=1)\n",
    "duration = end_date - start_date \n",
    "duration_in_s = duration.total_seconds()\n",
    "days  = int(round(divmod(duration_in_s, 86400)[0]))\n",
    "\n",
    "usersdf=pd.DataFrame()\n",
    "\n",
    "for i in range(0,days):\n",
    "    monthindx=date.month-1\n",
    "    dailyusers=random.sample(userlist,int(10000*monthprops[monthindx]))\n",
    "    df=pd.DataFrame(np.array([dailyusers]).T)we\n",
    "    \n",
    "    df.insert(0,'date', date, allow_duplicates=True)\n",
    "    df.insert(2,'revenue', [random.randint(2, 1200) for i in dailyusers], allow_duplicates=True)\n",
    "ew\n",
    "    usersdf = pd.concat([usersdf, df])\n",
    "\n",
    "    date+= relativedelta(days=1)\n",
    "\n"
   ]
  },
  {
   "cell_type": "code",
   "execution_count": 87,
   "id": "c363284a",
   "metadata": {},
   "outputs": [],
   "source": [
    "usersdf.to_csv('user_retention_test.csv', sep='\\t', encoding='utf-8',index=False)"
   ]
  },
  {
   "cell_type": "code",
   "execution_count": null,
   "id": "1933e063",
   "metadata": {},
   "outputs": [],
   "source": []
  }
 ],
 "metadata": {
  "kernelspec": {
   "display_name": "Python 3 (ipykernel)",
   "language": "python",
   "name": "python3"
  },
  "language_info": {
   "codemirror_mode": {
    "name": "ipython",
    "version": 3
   },
   "file_extension": ".py",
   "mimetype": "text/x-python",
   "name": "python",
   "nbconvert_exporter": "python",
   "pygments_lexer": "ipython3",
   "version": "3.8.10"
  }
 },
 "nbformat": 4,
 "nbformat_minor": 5
}
