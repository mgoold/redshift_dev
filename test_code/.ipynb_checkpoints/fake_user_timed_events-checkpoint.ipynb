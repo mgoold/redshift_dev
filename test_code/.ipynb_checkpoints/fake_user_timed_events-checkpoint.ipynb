{
 "cells": [
  {
   "cell_type": "code",
   "execution_count": 1,
   "id": "bef01d37",
   "metadata": {},
   "outputs": [],
   "source": [
    "import datetime \n",
    "import random\n",
    "from faker import Faker\n",
    "import csv"
   ]
  },
  {
   "cell_type": "code",
   "execution_count": 5,
   "id": "8a125bad",
   "metadata": {},
   "outputs": [],
   "source": [
    "# instantiate faker\n",
    "fake = Faker()"
   ]
  },
  {
   "cell_type": "code",
   "execution_count": 3,
   "id": "d22f50f2",
   "metadata": {},
   "outputs": [],
   "source": [
    "# make 1000 random unique user ids\n",
    "usercount=1000\n",
    "userlist=random.sample(range(100000, 300000), usercount)"
   ]
  },
  {
   "cell_type": "code",
   "execution_count": 17,
   "id": "c119678a",
   "metadata": {},
   "outputs": [
    {
     "ename": "TypeError",
     "evalue": "'list' object is not callable",
     "output_type": "error",
     "traceback": [
      "\u001b[0;31m---------------------------------------------------------------------------\u001b[0m",
      "\u001b[0;31mTypeError\u001b[0m                                 Traceback (most recent call last)",
      "Input \u001b[0;32mIn [17]\u001b[0m, in \u001b[0;36m<cell line: 10>\u001b[0;34m()\u001b[0m\n\u001b[1;32m     35\u001b[0m     temparry\u001b[38;5;241m.\u001b[39mappend(acct_create_date)\n\u001b[1;32m     36\u001b[0m     temparry\u001b[38;5;241m.\u001b[39mappend(save_home_date)\n\u001b[0;32m---> 37\u001b[0m     \u001b[43mtemparry\u001b[49m\u001b[43m(\u001b[49m\u001b[43mfake\u001b[49m\u001b[38;5;241;43m.\u001b[39;49m\u001b[43mstate_abbr\u001b[49m\u001b[43m(\u001b[49m\u001b[43m)\u001b[49m\u001b[43m)\u001b[49m \u001b[38;5;66;03m# state\u001b[39;00m\n\u001b[1;32m     38\u001b[0m     users\u001b[38;5;241m.\u001b[39mappend(temparry)\n\u001b[1;32m     40\u001b[0m \u001b[38;5;28mprint\u001b[39m(users)\n",
      "\u001b[0;31mTypeError\u001b[0m: 'list' object is not callable"
     ]
    }
   ],
   "source": [
    "# seed for replicable results\n",
    "\n",
    "Faker.seed(4321)\n",
    "\n",
    "start_date = datetime.date(year=2023, month=1, day=1)\n",
    "end_date = datetime.date(year=2023, month=1, day=3)\n",
    "\n",
    "users=[]\n",
    "\n",
    "for i in range(len(userlist)):\n",
    "    temparry=[]\n",
    "    temparry.append(userlist[i]) # userid -- can't recall why I use indx instead of item...\n",
    "    \n",
    "    # account_create_date\n",
    "    \n",
    "    acct_create_date=None\n",
    "    save_home_date=None\n",
    "    \n",
    "    randint1=random.randint(1, 20)\n",
    "    \n",
    "    if randint1<=18:\n",
    "        acct_create_date=fake.date_time_between(start_date=start_date, end_date=end_date)\n",
    "\n",
    "        randint1=random.randint(1, 20)\n",
    "        if randint1<=11: # only if create account can have chance of saved date\n",
    "            # 1-30 days later\n",
    "            \n",
    "            save_home_date=acct_create_date + datetime.timedelta(days=random.randint(1, 30))\n",
    "            \n",
    "            # can't format till date math complete\n",
    "            save_home_date=save_home_date.strftime('%Y-%m-%d %H:%M:%S')\n",
    "        \n",
    "        acct_create_date=acct_create_date.strftime('%Y-%m-%d %H:%M:%S')\n",
    "\n",
    "    temparry.append(acct_create_date)\n",
    "    temparry.append(save_home_date)\n",
    "    temparry.append(fake.state_abbr()) # state\n",
    "    users.append(temparry)\n",
    "\n",
    "print(users)"
   ]
  },
  {
   "cell_type": "code",
   "execution_count": 16,
   "id": "25b58bb9",
   "metadata": {},
   "outputs": [],
   "source": [
    "with open('user_timeevents.csv', 'w') as result:\n",
    "    writer = csv.writer(result, delimiter=\"\\t\")\n",
    "    writer.writerow(('userid', 'acct_create_date', 'save_home_date'))\n",
    "    writer.writerows([i for i in row] for row in users)"
   ]
  },
  {
   "cell_type": "code",
   "execution_count": null,
   "id": "773c2beb",
   "metadata": {},
   "outputs": [],
   "source": []
  }
 ],
 "metadata": {
  "kernelspec": {
   "display_name": "Python 3 (ipykernel)",
   "language": "python",
   "name": "python3"
  },
  "language_info": {
   "codemirror_mode": {
    "name": "ipython",
    "version": 3
   },
   "file_extension": ".py",
   "mimetype": "text/x-python",
   "name": "python",
   "nbconvert_exporter": "python",
   "pygments_lexer": "ipython3",
   "version": "3.8.10"
  }
 },
 "nbformat": 4,
 "nbformat_minor": 5
}
